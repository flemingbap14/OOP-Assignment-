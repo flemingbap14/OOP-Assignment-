{
  "nbformat": 4,
  "nbformat_minor": 0,
  "metadata": {
    "colab": {
      "provenance": []
    },
    "kernelspec": {
      "name": "python3",
      "display_name": "Python 3"
    },
    "language_info": {
      "name": "python"
    }
  },
  "cells": [
    {
      "cell_type": "markdown",
      "source": [
        "#Theory Questions"
      ],
      "metadata": {
        "id": "4VNGw4X81CSS"
      }
    },
    {
      "cell_type": "markdown",
      "source": [
        "Q1 What is Object-Oriented Programming (OOP)?\n",
        "\n",
        "Ans OOP is a programming paradigm based on objects that encapsulate data and behavior. It promotes reusability, scalability, and modularity.\n",
        "\n"
      ],
      "metadata": {
        "id": "RGswiSh_1QlO"
      }
    },
    {
      "cell_type": "markdown",
      "source": [
        "Q2 What is a class in OOP?\n",
        "\n",
        "Ans A class is a blueprint for creating objects. It defines attributes (variables) and methods (functions) that objects of that class will have."
      ],
      "metadata": {
        "id": "HirWRX_W1Zdp"
      }
    },
    {
      "cell_type": "markdown",
      "source": [
        "Q3 What is an object in OOP?\n",
        "\n",
        "Ans An object is an instance of a class. It has attributes (data) and behaviors (methods) defined in the class."
      ],
      "metadata": {
        "id": "oVomaqVc1f8V"
      }
    },
    {
      "cell_type": "markdown",
      "source": [
        "Q4 What is the difference between abstraction and encapsulation?\n",
        "\n",
        "Ans Abstraction hides implementation details and only exposes necessary functionality.\n",
        "Encapsulation restricts direct access to some of an object's components to protect data integrity."
      ],
      "metadata": {
        "id": "YOwH3FMR1wgK"
      }
    },
    {
      "cell_type": "markdown",
      "source": [
        "Q5 What are dunder methods in Python?\n",
        "\n",
        "Ans Dunder (double underscore) methods are special methods in Python (e.g., __init__, __str__, __len__) that allow customization of built-in operations."
      ],
      "metadata": {
        "id": "rIIWRkNc1zff"
      }
    },
    {
      "cell_type": "markdown",
      "source": [
        "Q6 Explain the concept of inheritance in OOP.\n",
        "\n",
        "Ans Inheritance allows a class (child) to derive properties and methods from another class (parent), enabling code reuse."
      ],
      "metadata": {
        "id": "K3tKC_yp145H"
      }
    },
    {
      "cell_type": "markdown",
      "source": [
        "Q7 What is polymorphism in OOP?\n",
        "\n",
        "Ans Polymorphism allows different classes to be treated as instances of the same class through a shared interface (e.g., method overriding)."
      ],
      "metadata": {
        "id": "6RUUYIu72BvB"
      }
    },
    {
      "cell_type": "markdown",
      "source": [
        "Q8 How is encapsulation achieved in Python?\n",
        "\n",
        "Ans Encapsulation is achieved using private (__var), protected (_var), and public (var) access modifiers in classes."
      ],
      "metadata": {
        "id": "vq7EFe4D2DsV"
      }
    },
    {
      "cell_type": "markdown",
      "source": [
        "Q9 What is a constructor in Python?\n",
        "\n",
        "Ans A constructor (__init__) is a special method automatically invoked when an object is created to initialize attributes."
      ],
      "metadata": {
        "id": "Erv28dAX2Msy"
      }
    },
    {
      "cell_type": "markdown",
      "source": [
        "Q10 What are class and static methods in Python?\n",
        "\n",
        "Ans Class methods (@classmethod) operate on the class rather than instances.\n",
        "Static methods (@staticmethod) do not access instance or class-specific data."
      ],
      "metadata": {
        "id": "MKKHOlD82T3-"
      }
    },
    {
      "cell_type": "markdown",
      "source": [
        "Q11 What is method overloading in Python?\n",
        "\n",
        "Ans Python does not support traditional method overloading but allows default arguments or variable arguments (*args, **kwargs)."
      ],
      "metadata": {
        "id": "xF48nDzy2ZCZ"
      }
    },
    {
      "cell_type": "markdown",
      "source": [
        "Q12 What is method overriding in OOP?\n",
        "\n",
        "Ans Overriding occurs when a subclass provides a specific implementation of a method already defined in its superclass."
      ],
      "metadata": {
        "id": "bfKPOpWg2dgO"
      }
    },
    {
      "cell_type": "markdown",
      "source": [
        "Q13 What is a property decorator in Python?\n",
        "\n",
        "Ans The @property decorator is used to define getter methods for an attribute to make it accessible like an attribute but computed dynamically."
      ],
      "metadata": {
        "id": "wsrpyJUA2kJo"
      }
    },
    {
      "cell_type": "markdown",
      "source": [
        "Q14 Why is polymorphism important in OOP?\n",
        "\n",
        "Ans Polymorphism allows different objects to be treated uniformly, improving code flexibility and reusability.\n",
        "\n"
      ],
      "metadata": {
        "id": "bHZ_v0Fb2tia"
      }
    },
    {
      "cell_type": "markdown",
      "source": [
        "Q15 What is an abstract class in Python?\n",
        "\n",
        "Ans An abstract class contains abstract methods (methods without implementation) and cannot be instantiated. It is defined using the ABC module."
      ],
      "metadata": {
        "id": "NRIM2X1c2zwU"
      }
    },
    {
      "cell_type": "markdown",
      "source": [
        "Q16 What are the advantages of OOP?\n",
        "\n",
        "Ans Code reusability\n",
        "Encapsulation for data protection\n",
        "Abstraction for cleaner interfaces\n",
        "Polymorphism for flexibility\n",
        "Easier maintenance"
      ],
      "metadata": {
        "id": "ycnZW95m27-Q"
      }
    },
    {
      "cell_type": "markdown",
      "source": [
        "Q17 What is the difference between a class variable and an instance variable?\n",
        "\n",
        "Ans Class variables are shared across all instances.\n",
        "Instance variables are unique to each object."
      ],
      "metadata": {
        "id": "k6tXJSsi3ATl"
      }
    },
    {
      "cell_type": "markdown",
      "source": [
        "Q18 What is multiple inheritance in Python?\n",
        "\n",
        "Ans Multiple inheritance allows a class to inherit from multiple parent classes."
      ],
      "metadata": {
        "id": "WK-TF5cv3FAr"
      }
    },
    {
      "cell_type": "markdown",
      "source": [
        "Q19 Explain the purpose of __str__ and __repr__ methods in Python.\n",
        "\n",
        "Ans  __str__ provides a human-readable string representation of an object.\n",
        "__repr__ provides an unambiguous representation useful for debugging."
      ],
      "metadata": {
        "id": "z5TNgB7O3KBO"
      }
    },
    {
      "cell_type": "markdown",
      "source": [
        "Q20 What is the significance of the super() function in Python?\n",
        "\n",
        "Ans super() allows access to parent class methods and attributes."
      ],
      "metadata": {
        "id": "H936SJ5a3Tum"
      }
    },
    {
      "cell_type": "markdown",
      "source": [
        "Q21 What is the significance of the __del__ method in Python?\n",
        "\n",
        "Ans The __del__ method is called when an object is deleted (used for cleanup)."
      ],
      "metadata": {
        "id": "YSNyw8zk3ZaF"
      }
    },
    {
      "cell_type": "markdown",
      "source": [
        "Q21 What is the significance of the __del__ method in Python?\n",
        "\n",
        "Ans The __del__ method is called when an object is deleted (used for cleanup)."
      ],
      "metadata": {
        "id": "u7SqjVtf3vfk"
      }
    },
    {
      "cell_type": "markdown",
      "source": [
        "Q22 What is the difference between @staticmethod and @classmethod in Python?\n",
        "\n",
        "Ans @staticmethod: No access to class/instance attributes.\n",
        "@classmethod: Has access to class attributes."
      ],
      "metadata": {
        "id": "5Onmr8C830Mp"
      }
    },
    {
      "cell_type": "markdown",
      "source": [
        "Q23 How does polymorphism work in Python with inheritance?\n",
        "\n",
        "Ans Polymorphism allows subclasses to define their versions of methods inherited from a parent class.\n",
        "\n"
      ],
      "metadata": {
        "id": "WozVSqZv36Cm"
      }
    },
    {
      "cell_type": "markdown",
      "source": [
        "Q24 What is method chaining in Python OOP?\n",
        "\n",
        "Ans Method chaining allows calling multiple methods on an object in a single statement."
      ],
      "metadata": {
        "id": "vm_m9UIj3_yx"
      }
    },
    {
      "cell_type": "markdown",
      "source": [
        "Q25 What is the purpose of the __call__ method in Python?\n",
        "\n",
        "Ans The __call__ method allows an instance of a class to be called as a function."
      ],
      "metadata": {
        "id": "dpPDVi4b4GHs"
      }
    },
    {
      "cell_type": "markdown",
      "source": [
        "#Practical"
      ],
      "metadata": {
        "id": "dwrXgHV-4Msd"
      }
    },
    {
      "cell_type": "code",
      "source": [
        "#Create a parent class Animal with a method speak() that prints a generic message. Create a child class Dog that overrides the speak() method to print \"Bark!\".\n",
        "\n",
        "class Animal:\n",
        "    def speak(self):\n",
        "      print(\"Animal is speaking\")\n",
        "\n",
        "class Dog(Animal):\n",
        "    def speak(self):\n",
        "      print(\"Bark!\")"
      ],
      "metadata": {
        "id": "ldrqF_3Z1rPK"
      },
      "execution_count": 2,
      "outputs": []
    },
    {
      "cell_type": "code",
      "source": [
        "#Write a program to create an abstract class Shape with a method area(). Derive classes Circle and Rectangle from it and implement the area() method in both.\n",
        "\n",
        "from abc import ABC, abstractmethod\n",
        "\n",
        "class Shape(ABC):\n",
        "    @abstractmethod\n",
        "    def area(self):\n",
        "        pass\n",
        "\n",
        "class Circle(Shape):\n",
        "    def __init__(self, radius):\n",
        "        self.radius = radius\n",
        "\n",
        "    def area(self):\n",
        "        return 3.14 * self.radius * self.radius\n",
        "\n",
        "class Rectangle(Shape):\n",
        "    def __init__(self, length, width):\n",
        "        self.length = length\n",
        "        self.width = width\n",
        "\n",
        "    def area(self):\n",
        "        return self.length * self.width\n",
        "\n",
        "# Example usage\n",
        "c = Circle(5)\n",
        "print(\"Circle Area:\", c.area())\n",
        "\n",
        "r = Rectangle(4, 6)\n",
        "print(\"Rectangle Area:\", r.area())\n",
        "\n"
      ],
      "metadata": {
        "colab": {
          "base_uri": "https://localhost:8080/"
        },
        "id": "aC41EUHm4h0R",
        "outputId": "4681620b-b50f-42e1-a238-afe7b7b884c4"
      },
      "execution_count": 3,
      "outputs": [
        {
          "output_type": "stream",
          "name": "stdout",
          "text": [
            "Circle Area: 78.5\n",
            "Rectangle Area: 24\n"
          ]
        }
      ]
    },
    {
      "cell_type": "code",
      "source": [
        "#Implement a multi-level inheritance scenario where a class Vehicle has an attribute type. Derive a class Car and further derive a class ElectricCar that adds a battery attribute.\n",
        "\n",
        "class Vehicle:\n",
        "    def __init__(self, type):\n",
        "        self.type = type\n",
        "\n",
        "class Car(Vehicle):\n",
        "    def __init__(self, type, brand):\n",
        "        super().__init__(type)\n",
        "        self.brand = brand\n",
        "\n",
        "class ElectricCar(Car):\n",
        "    def __init__(self, type, brand, battery):\n",
        "        super().__init__(type, brand)\n",
        "        self.battery = battery\n",
        "\n",
        "# Example usage\n",
        "e_car = ElectricCar(\"Four-wheeler\", \"Tesla\", \"100 kWh\")\n",
        "print(f\"Type: {e_car.type}, Brand: {e_car.brand}, Battery: {e_car.battery}\")\n"
      ],
      "metadata": {
        "colab": {
          "base_uri": "https://localhost:8080/"
        },
        "id": "tEAvApme4qJe",
        "outputId": "34519b00-8da9-47c4-bf65-e9650c056aa0"
      },
      "execution_count": 4,
      "outputs": [
        {
          "output_type": "stream",
          "name": "stdout",
          "text": [
            "Type: Four-wheeler, Brand: Tesla, Battery: 100 kWh\n"
          ]
        }
      ]
    },
    {
      "cell_type": "code",
      "source": [
        "#Write a program to demonstrate encapsulation by creating a class BankAccount with private attributes balance and methods to deposit, withdraw, and check balance.\n",
        "\n",
        "class BankAccount:\n",
        "    def __init__(self, balance=0):\n",
        "        self.__balance = balance\n",
        "\n",
        "    def deposit(self, amount):\n",
        "        self.__balance += amount\n",
        "\n",
        "    def withdraw(self, amount):\n",
        "        if amount <= self.__balance:\n",
        "            self.__balance -= amount\n",
        "        else:\n",
        "            print(\"Insufficient balance!\")\n",
        "\n",
        "    def get_balance(self):\n",
        "        return self.__balance\n",
        "\n",
        "# Example usage\n",
        "account = BankAccount(1000)\n",
        "account.deposit(500)\n",
        "account.withdraw(300)\n",
        "print(\"Balance:\", account.get_balance())\n",
        "\n"
      ],
      "metadata": {
        "colab": {
          "base_uri": "https://localhost:8080/"
        },
        "id": "w5ApgLb84vtJ",
        "outputId": "50d51cdd-86de-4374-be47-ac4183e384cd"
      },
      "execution_count": 5,
      "outputs": [
        {
          "output_type": "stream",
          "name": "stdout",
          "text": [
            "Balance: 1200\n"
          ]
        }
      ]
    },
    {
      "cell_type": "code",
      "source": [
        "#Demonstrate runtime polymorphism using a method play() in a base class Instrument. Derive classes Guitar and Piano that implement their own version of play().\n",
        "\n",
        "class Instrument:\n",
        "    def play(self):\n",
        "        print(\"Instrument is playing...\")\n",
        "\n",
        "class Guitar(Instrument):\n",
        "    def play(self):\n",
        "        print(\"Strumming the guitar.\")\n",
        "\n",
        "class Piano(Instrument):\n",
        "    def play(self):\n",
        "        print(\"Playing the piano.\")\n",
        "\n",
        "# Example usage\n",
        "inst = Instrument()\n",
        "g = Guitar()\n",
        "p = Piano()\n",
        "\n",
        "inst.play()\n",
        "g.play()\n",
        "p.play()\n",
        "\n"
      ],
      "metadata": {
        "colab": {
          "base_uri": "https://localhost:8080/"
        },
        "id": "q9TDm0uc41kY",
        "outputId": "45179e11-ab0e-4d0e-b764-f78fbe899efb"
      },
      "execution_count": 6,
      "outputs": [
        {
          "output_type": "stream",
          "name": "stdout",
          "text": [
            "Instrument is playing...\n",
            "Strumming the guitar.\n",
            "Playing the piano.\n"
          ]
        }
      ]
    },
    {
      "cell_type": "code",
      "source": [
        "#Create a class MathOperations with a class method add_numbers() to add two numbers and a static method subtract_numbers() to subtract two numbers.\n",
        "\n",
        "class MathOperations:\n",
        "    @classmethod\n",
        "    def add_numbers(cls, a, b):\n",
        "        return a + b\n",
        "\n",
        "    @staticmethod\n",
        "    def subtract_numbers(a, b):\n",
        "        return a - b\n",
        "\n",
        "# Example usage\n",
        "print(\"Addition:\", MathOperations.add_numbers(5, 3))\n",
        "print(\"Subtraction:\", MathOperations.subtract_numbers(5, 3))\n",
        "\n"
      ],
      "metadata": {
        "colab": {
          "base_uri": "https://localhost:8080/"
        },
        "id": "n5I_PJiB46aI",
        "outputId": "16a034cd-0f98-4ff6-b694-f4492307dedf"
      },
      "execution_count": 7,
      "outputs": [
        {
          "output_type": "stream",
          "name": "stdout",
          "text": [
            "Addition: 8\n",
            "Subtraction: 2\n"
          ]
        }
      ]
    },
    {
      "cell_type": "code",
      "source": [
        "#Implement a class Person with a class method to count the total number of persons created.\n",
        "\n",
        "class Person:\n",
        "    count = 0\n",
        "\n",
        "    def __init__(self, name):\n",
        "        self.name = name\n",
        "        Person.count += 1\n",
        "\n",
        "    @classmethod\n",
        "    def get_count(cls):\n",
        "        return cls.count\n",
        "\n",
        "# Example usage\n",
        "p1 = Person(\"Alice\")\n",
        "p2 = Person(\"Bob\")\n",
        "print(\"Total Persons:\", Person.get_count())\n"
      ],
      "metadata": {
        "colab": {
          "base_uri": "https://localhost:8080/"
        },
        "id": "45y_Ec6g4_1h",
        "outputId": "f136f5ba-8bb0-4f8d-a864-d7d8a001c064"
      },
      "execution_count": 8,
      "outputs": [
        {
          "output_type": "stream",
          "name": "stdout",
          "text": [
            "Total Persons: 2\n"
          ]
        }
      ]
    },
    {
      "cell_type": "code",
      "source": [
        "#Write a class Fraction with attributes numerator and denominator. Override the __str__ method to display the fraction as \"numerator/denominator\".\n",
        "\n",
        "class Fraction:\n",
        "    def __init__(self, numerator, denominator):\n",
        "        self.numerator = numerator\n",
        "        self.denominator = denominator\n",
        "\n",
        "    def __str__(self):\n",
        "        return f\"{self.numerator}/{self.denominator}\"\n",
        "\n",
        "# Example usage\n",
        "frac = Fraction(3, 4)\n",
        "print(frac)\n"
      ],
      "metadata": {
        "colab": {
          "base_uri": "https://localhost:8080/"
        },
        "id": "bCcj0Vvc5EKM",
        "outputId": "52afc5d4-5028-4538-ce64-9f83f37fa573"
      },
      "execution_count": 9,
      "outputs": [
        {
          "output_type": "stream",
          "name": "stdout",
          "text": [
            "3/4\n"
          ]
        }
      ]
    },
    {
      "cell_type": "code",
      "source": [
        "#Demonstrate operator overloading by creating a class Vector and overriding the __add__ method to add two vectors.\n",
        "\n",
        "class Vector:\n",
        "    def __init__(self, x, y):\n",
        "        self.x = x\n",
        "        self.y = y\n",
        "\n",
        "    def __add__(self, other):\n",
        "        return Vector(self.x + other.x, self.y + other.y)\n",
        "\n",
        "    def __str__(self):\n",
        "        return f\"Vector({self.x}, {self.y})\"\n",
        "\n",
        "# Example usage\n",
        "v1 = Vector(2, 3)\n",
        "v2 = Vector(1, 4)\n",
        "v3 = v1 + v2\n",
        "print(v3)\n",
        "\n"
      ],
      "metadata": {
        "colab": {
          "base_uri": "https://localhost:8080/"
        },
        "id": "16z-3mpb5IYU",
        "outputId": "f18e2984-8d4c-4784-cee6-fc570844e59e"
      },
      "execution_count": 10,
      "outputs": [
        {
          "output_type": "stream",
          "name": "stdout",
          "text": [
            "Vector(3, 7)\n"
          ]
        }
      ]
    },
    {
      "cell_type": "code",
      "source": [
        "#Create a class Person with attributes name and age. Add a method greet() that prints \"Hello, my name is {name} and I am {age} years old.\"\n",
        "\n",
        "class Person:\n",
        "    def __init__(self, name, age):\n",
        "        self.name = name\n",
        "        self.age = age\n",
        "\n",
        "    def greet(self):\n",
        "        print(f\"Hello, my name is {self.name} and I am {self.age} years old.\")\n",
        "\n",
        "# Example usage\n",
        "p = Person(\"John\", 25)\n",
        "p.greet()\n"
      ],
      "metadata": {
        "colab": {
          "base_uri": "https://localhost:8080/"
        },
        "id": "QuYxoDgU5Nuz",
        "outputId": "2276e605-37e0-45d1-8852-68e2a738decb"
      },
      "execution_count": 11,
      "outputs": [
        {
          "output_type": "stream",
          "name": "stdout",
          "text": [
            "Hello, my name is John and I am 25 years old.\n"
          ]
        }
      ]
    },
    {
      "cell_type": "code",
      "source": [
        "#Implement a class Student with attributes name and grades. Create a method average_grade() to compute the average of the grades.\n",
        "\n",
        "class Student:\n",
        "    def __init__(self, name, grades):\n",
        "        self.name = name\n",
        "        self.grades = grades\n",
        "\n",
        "    def average_grade(self):\n",
        "        return sum(self.grades) / len(self.grades)\n",
        "\n",
        "# Example usage\n",
        "s = Student(\"Alice\", [90, 85, 88])\n",
        "print(\"Average Grade:\", s.average_grade())\n"
      ],
      "metadata": {
        "colab": {
          "base_uri": "https://localhost:8080/"
        },
        "id": "oBXadl8k5RzD",
        "outputId": "d1617e66-0eaf-494a-c9c8-a48cb0990249"
      },
      "execution_count": 12,
      "outputs": [
        {
          "output_type": "stream",
          "name": "stdout",
          "text": [
            "Average Grade: 87.66666666666667\n"
          ]
        }
      ]
    },
    {
      "cell_type": "code",
      "source": [
        "#Create a class Rectangle with methods set_dimensions() to set the dimensions and area() to calculate the area.\n",
        "\n",
        "class Rectangle:\n",
        "    def set_dimensions(self, length, width):\n",
        "        self.length = length\n",
        "        self.width = width\n",
        "\n",
        "    def area(self):\n",
        "        return self.length * self.width\n",
        "\n",
        "# Example usage\n",
        "rect = Rectangle()\n",
        "rect.set_dimensions(5, 4)\n",
        "print(\"Area:\", rect.area())\n"
      ],
      "metadata": {
        "colab": {
          "base_uri": "https://localhost:8080/"
        },
        "id": "4TGb48NI5ZJN",
        "outputId": "19178f40-5031-4b01-8e9f-9017787e9bf4"
      },
      "execution_count": 13,
      "outputs": [
        {
          "output_type": "stream",
          "name": "stdout",
          "text": [
            "Area: 20\n"
          ]
        }
      ]
    },
    {
      "cell_type": "code",
      "source": [
        "#Create a class Employee with a method calculate_salary() that computes the salary based on hours worked and hourly rate. Create a derived class Manager that adds a bonus to the salary.\n",
        "\n",
        "class Employee:\n",
        "    def __init__(self, hours_worked, hourly_rate):\n",
        "        self.hours_worked = hours_worked\n",
        "        self.hourly_rate = hourly_rate\n",
        "\n",
        "    def calculate_salary(self):\n",
        "        return self.hours_worked * self.hourly_rate\n",
        "\n",
        "class Manager(Employee):\n",
        "    def __init__(self, hours_worked, hourly_rate, bonus):\n",
        "        super().__init__(hours_worked, hourly_rate)\n",
        "        self.bonus = bonus\n",
        "\n",
        "    def calculate_salary(self):\n",
        "        return super().calculate_salary() + self.bonus\n",
        "\n",
        "# Example usage\n",
        "m = Manager(40, 50, 500)\n",
        "print(\"Manager Salary:\", m.calculate_salary())\n",
        "\n"
      ],
      "metadata": {
        "colab": {
          "base_uri": "https://localhost:8080/"
        },
        "id": "PdLKfpMX5dHf",
        "outputId": "7b429be6-204d-494f-9757-a9f1df05b5a5"
      },
      "execution_count": 14,
      "outputs": [
        {
          "output_type": "stream",
          "name": "stdout",
          "text": [
            "Manager Salary: 2500\n"
          ]
        }
      ]
    },
    {
      "cell_type": "code",
      "source": [
        "#Create a class Product with attributes name, price, and quantity. Implement a method total_price() that calculates the total price of the product.\n",
        "\n",
        "class Product:\n",
        "    def __init__(self, name, price, quantity):\n",
        "        self.name = name\n",
        "        self.price = price\n",
        "        self.quantity = quantity\n",
        "\n",
        "    def total_price(self):\n",
        "        return self.price * self.quantity\n",
        "\n",
        "# Example usage\n",
        "p = Product(\"Laptop\", 50000, 2)\n",
        "print(f\"Total Price of {p.name}: {p.total_price()}\")\n",
        "\n"
      ],
      "metadata": {
        "colab": {
          "base_uri": "https://localhost:8080/"
        },
        "id": "ml_L4f-T5gyT",
        "outputId": "87dc31ce-786b-4493-ca8d-3b88e141e80e"
      },
      "execution_count": 15,
      "outputs": [
        {
          "output_type": "stream",
          "name": "stdout",
          "text": [
            "Total Price of Laptop: 100000\n"
          ]
        }
      ]
    },
    {
      "cell_type": "code",
      "source": [
        "#Create a class Animal with an abstract method sound(). Create two derived classes Cow and Sheep that implement the sound() method.\n",
        "\n",
        "from abc import ABC, abstractmethod\n",
        "\n",
        "class Animal(ABC):\n",
        "    @abstractmethod\n",
        "    def sound(self):\n",
        "        pass\n",
        "\n",
        "class Cow(Animal):\n",
        "    def sound(self):\n",
        "        return \"Moo\"\n",
        "\n",
        "class Sheep(Animal):\n",
        "    def sound(self):\n",
        "        return \"Baa\"\n",
        "\n",
        "# Example usage\n",
        "c = Cow()\n",
        "s = Sheep()\n",
        "print(\"Cow:\", c.sound())\n",
        "print(\"Sheep:\", s.sound())\n"
      ],
      "metadata": {
        "colab": {
          "base_uri": "https://localhost:8080/"
        },
        "id": "IjA2cauo6Bqw",
        "outputId": "2c002134-fc85-490e-8754-ad517399f23f"
      },
      "execution_count": 16,
      "outputs": [
        {
          "output_type": "stream",
          "name": "stdout",
          "text": [
            "Cow: Moo\n",
            "Sheep: Baa\n"
          ]
        }
      ]
    },
    {
      "cell_type": "code",
      "source": [
        "#Create a class Book with attributes title, author, and year_published. Add a method get_book_info() that returns a formatted string with the book's details.\n",
        "\n",
        "class Book:\n",
        "    def __init__(self, title, author, year_published):\n",
        "        self.title = title\n",
        "        self.author = author\n",
        "        self.year_published = year_published\n",
        "\n",
        "    def get_book_info(self):\n",
        "        return f\"'{self.title}' by {self.author}, published in {self.year_published}.\"\n",
        "\n",
        "# Example usage\n",
        "b = Book(\"1984\", \"George Orwell\", 1949)\n",
        "print(b.get_book_info())\n",
        "\n"
      ],
      "metadata": {
        "colab": {
          "base_uri": "https://localhost:8080/"
        },
        "id": "-8naTdQV6Hx4",
        "outputId": "fb8e8bf1-e959-4480-c245-d433051511dc"
      },
      "execution_count": 17,
      "outputs": [
        {
          "output_type": "stream",
          "name": "stdout",
          "text": [
            "'1984' by George Orwell, published in 1949.\n"
          ]
        }
      ]
    },
    {
      "cell_type": "code",
      "source": [
        "#Create a class House with attributes address and price. Create a derived class Mansion that adds an attribute number_of_rooms.\n",
        "\n",
        "class House:\n",
        "    def __init__(self, address, price):\n",
        "        self.address = address\n",
        "        self.price = price\n",
        "\n",
        "class Mansion(House):\n",
        "    def __init__(self, address, price, number_of_rooms):\n",
        "        super().__init__(address, price)\n",
        "        self.number_of_rooms = number_of_rooms\n",
        "\n",
        "# Example usage\n",
        "m = Mansion(\"123 Beverly Hills\", 5000000, 10)\n",
        "print(f\"Address: {m.address}, Price: {m.price}, Rooms: {m.number_of_rooms}\")\n",
        "\n"
      ],
      "metadata": {
        "colab": {
          "base_uri": "https://localhost:8080/"
        },
        "id": "RoNZejMP6Mg6",
        "outputId": "0de63f8d-4f8d-4a7b-f4b4-220834a6eb00"
      },
      "execution_count": 18,
      "outputs": [
        {
          "output_type": "stream",
          "name": "stdout",
          "text": [
            "Address: 123 Beverly Hills, Price: 5000000, Rooms: 10\n"
          ]
        }
      ]
    },
    {
      "cell_type": "code",
      "source": [],
      "metadata": {
        "id": "04LpKIIO6aDr"
      },
      "execution_count": null,
      "outputs": []
    }
  ]
}